{
 "cells": [
  {
   "cell_type": "code",
   "execution_count": 7,
   "id": "a432de40-47f6-4faf-bcc1-c8337cb12a43",
   "metadata": {},
   "outputs": [],
   "source": [
    "from dotenv import load_dotenv\n",
    "import os\n",
    "from pypdf import PdfReader"
   ]
  },
  {
   "cell_type": "code",
   "execution_count": 8,
   "id": "9182337c-b8b8-425a-8b70-ef59d4a5a23c",
   "metadata": {},
   "outputs": [],
   "source": [
    "load_dotenv()\n",
    "GOOGLW_API_KEY = os.getenv(\"GOOGLE_API_KEY\")"
   ]
  },
  {
   "cell_type": "code",
   "execution_count": 14,
   "id": "43579458-6b61-42a7-b6f1-fbb91671ccb9",
   "metadata": {},
   "outputs": [],
   "source": [
    "from langchain_google_genai import GoogleGenerativeAIEmbeddings"
   ]
  },
  {
   "cell_type": "code",
   "execution_count": 10,
   "id": "7ddf9096-9153-4688-b8ac-9c7bcee1cb24",
   "metadata": {
    "scrolled": true
   },
   "outputs": [],
   "source": [
    "import google.generativeai as genai\n",
    "from langchain_google_genai import ChatGoogleGenerativeAI\n",
    "from langchain.text_splitter import RecursiveCharacterTextSplitter\n",
    "from langchain.chains import ConversationalRetrievalChain\n",
    "from langchain_chroma import Chroma\n",
    "from langchain.memory import ConversationBufferMemory"
   ]
  },
  {
   "cell_type": "code",
   "execution_count": 11,
   "id": "8e081a52-71f5-4d21-bd62-858be62a6805",
   "metadata": {},
   "outputs": [],
   "source": [
    "def get_pdf_text(pdf_docs):\n",
    "    text = \"\"\n",
    "    for pdf in pdf_docs:\n",
    "        pdf_reader = PdfReader(pdf)\n",
    "        for page in pdf_reader.pages:\n",
    "            text += page.extract_text()\n",
    "    return text"
   ]
  },
  {
   "cell_type": "code",
   "execution_count": 13,
   "id": "977187f1-a443-42c9-9867-394094ac5afe",
   "metadata": {},
   "outputs": [],
   "source": [
    "def get_text_chunks(text):\n",
    "    text_splitter = RecursiveCharacterTextSplitter(chunk_size=1000, chunk_overlap = 100)\n",
    "    chunks = text_splitter.split_text(text)\n",
    "    return chunks"
   ]
  },
  {
   "cell_type": "code",
   "execution_count": 19,
   "id": "d63fb622-dc1a-4c78-b9db-abcd13901d7d",
   "metadata": {},
   "outputs": [
    {
     "data": {
      "text/plain": [
       "GoogleGenerativeAIEmbeddings(client=<google.ai.generativelanguage_v1beta.services.generative_service.client.GenerativeServiceClient object at 0x7f19dc99f050>, model='textembedding-gecko@001', task_type=None, google_api_key=SecretStr('**********'), credentials=None, client_options=None, transport=None, request_options=None)"
      ]
     },
     "execution_count": 19,
     "metadata": {},
     "output_type": "execute_result"
    }
   ],
   "source": [
    "GoogleGenerativeAIEmbeddings(model=\"textembedding-gecko@001\", google_api_key=GOOGLW_API_KEY)"
   ]
  },
  {
   "cell_type": "code",
   "execution_count": 25,
   "id": "af036f17-b24b-4aff-a207-5a1de43fd068",
   "metadata": {},
   "outputs": [],
   "source": [
    "def get_vector_store(chunks):\n",
    "    embeddings = GoogleGenerativeAIEmbeddings(model=\"textembedding-gecko@001\", google_api_key=GOOGLW_API_KEY)\n",
    "    vector_store = Chroma.from_texts(chunks, embedding=embeddings, persist_directory=\"./db\")\n",
    "    return get_vector_store"
   ]
  },
  {
   "cell_type": "code",
   "execution_count": 22,
   "id": "b0ab658c-d9b9-4e34-b25d-fdb6619d123b",
   "metadata": {},
   "outputs": [
    {
     "data": {
      "text/plain": [
       "GoogleGenerativeAI(model='gemini-1.5-flash-001', google_api_key=SecretStr('**********'), temperature=0.2, client=genai.GenerativeModel(\n",
       "    model_name='models/gemini-1.5-flash-001',\n",
       "    generation_config={},\n",
       "    safety_settings={},\n",
       "    tools=None,\n",
       "    system_instruction=None,\n",
       "    cached_content=None\n",
       "))"
      ]
     },
     "execution_count": 22,
     "metadata": {},
     "output_type": "execute_result"
    }
   ],
   "source": [
    "GoogleGenerativeAI(model=\"gemini-1.5-flash-001\", google_api_key=GOOGLW_API_KEY, temperature=0.2)"
   ]
  },
  {
   "cell_type": "code",
   "execution_count": 23,
   "id": "affdbad9-0657-4339-a6a2-e98796837697",
   "metadata": {},
   "outputs": [],
   "source": [
    "def get_conversational_chain(vector_store):\n",
    "    llm = GoogleGenerativeAI(model=\"gemini-1.5-flash-001\", google_api_key=GOOGLW_API_KEY, temperature=0.2)\n",
    "    memory = ConversationBufferMemory(memory_key= \"chat_history\", return_messages=True)\n",
    "    conversation_chain = ConversationalRetrievalChain.from_llm(llm=llm, retriever=vector_store.as_retriver(), memory=memory)\n",
    "    return conversation_chain"
   ]
  },
  {
   "cell_type": "code",
   "execution_count": null,
   "id": "406423c3-d7bb-410c-992d-613c798e61b7",
   "metadata": {},
   "outputs": [],
   "source": []
  },
  {
   "cell_type": "code",
   "execution_count": null,
   "id": "c6ac4f1c-b662-4b6f-8a44-db1085d92100",
   "metadata": {},
   "outputs": [],
   "source": []
  },
  {
   "cell_type": "code",
   "execution_count": null,
   "id": "65f12c1f-3ffc-4612-8080-efed8c34f74c",
   "metadata": {},
   "outputs": [],
   "source": []
  }
 ],
 "metadata": {
  "kernelspec": {
   "display_name": "Python 3 (ipykernel)",
   "language": "python",
   "name": "python3"
  },
  "language_info": {
   "codemirror_mode": {
    "name": "ipython",
    "version": 3
   },
   "file_extension": ".py",
   "mimetype": "text/x-python",
   "name": "python",
   "nbconvert_exporter": "python",
   "pygments_lexer": "ipython3",
   "version": "3.12.3"
  }
 },
 "nbformat": 4,
 "nbformat_minor": 5
}
